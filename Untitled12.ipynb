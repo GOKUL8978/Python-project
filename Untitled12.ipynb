{
 "cells": [
  {
   "cell_type": "code",
   "execution_count": null,
   "id": "caeaa164",
   "metadata": {},
   "outputs": [],
   "source": [
    "import cv2\n",
    "import numpy as np\n",
    "import matplotlib.pyplot as plt\n",
    "\n",
    "import torch\n",
    "import kornia as K\n",
    "from kornia.contrib import FaceDetector, FaceDetectorResult\n",
    "\n",
    "# select the device and type\n",
    "device = torch.device('cpu')  # use 'cuda:0'\n",
    "dtype = torch.float32"
   ]
  },
  {
   "cell_type": "code",
   "execution_count": null,
   "id": "1ca08fdc",
   "metadata": {},
   "outputs": [],
   "source": [
    "# load the image and scale (if needed)\n",
    "img_raw = cv2.imread('image.jpg', cv2.IMREAD_COLOR)\n",
    "\n",
    "# preprocess\n",
    "img = K.image_to_tensor(img_raw, keepdim=False).to(device, dtype)\n",
    "img = K.color.bgr_to_rgb(img)\n",
    "\n",
    "img_vis = K.tensor_to_image(img.byte().clone())  # to later visualise"
   ]
  },
  {
   "cell_type": "code",
   "execution_count": null,
   "id": "026bd2e0",
   "metadata": {},
   "outputs": [],
   "source": [
    "plt.figure(figsize=(8, 8))\n",
    "plt.imshow(K.tensor_to_image(img.byte()))\n",
    "plt.axis('off')\n"
   ]
  }
 ],
 "metadata": {
  "kernelspec": {
   "display_name": "Python 3 (ipykernel)",
   "language": "python",
   "name": "python3"
  },
  "language_info": {
   "codemirror_mode": {
    "name": "ipython",
    "version": 3
   },
   "file_extension": ".py",
   "mimetype": "text/x-python",
   "name": "python",
   "nbconvert_exporter": "python",
   "pygments_lexer": "ipython3",
   "version": "3.9.12"
  }
 },
 "nbformat": 4,
 "nbformat_minor": 5
}
